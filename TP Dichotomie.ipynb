{
 "cells": [
  {
   "cell_type": "code",
   "execution_count": 6,
   "metadata": {},
   "outputs": [],
   "source": [
    "import matplotlib.pyplot as plt\n",
    "import numpy as np\n"
   ]
  },
  {
   "cell_type": "markdown",
   "metadata": {},
   "source": [
    "$\\large  TP : Méthode~de~la~dichotomie$\n"
   ]
  },
  {
   "cell_type": "markdown",
   "metadata": {},
   "source": []
  },
  {
   "cell_type": "markdown",
   "metadata": {},
   "source": [
    "Soit $f$ la fonction définie sur $\\mathbb{R}$ par $f(x)=e^{0.5x}+x^2-4$.\n",
    "\n",
    "On veut déterminer un encadrement d'une solution $\\alpha$ de l'équation $f(x)=0$ sur $[0;2]$."
   ]
  },
  {
   "cell_type": "markdown",
   "metadata": {},
   "source": [
    "${\\bf Partie~A}\\kern10pt$ Étude théorique"
   ]
  },
  {
   "cell_type": "markdown",
   "metadata": {},
   "source": [
    "1) Étudier le sens de variation de $f$ sur $[0;2]$."
   ]
  },
  {
   "cell_type": "markdown",
   "metadata": {},
   "source": [
    "$\\textit{Réponse sur feuille}$"
   ]
  },
  {
   "cell_type": "markdown",
   "metadata": {},
   "source": [
    "2) En déduire que l'équation $f(x)=0$ admet une unique solution $\\alpha$ sur $[0;2]$."
   ]
  },
  {
   "cell_type": "markdown",
   "metadata": {},
   "source": [
    "$\\textit{Réponse sur feuille}$"
   ]
  },
  {
   "cell_type": "markdown",
   "metadata": {},
   "source": [
    "${\\bf Partie~B}\\kern10pt$ Implémentation "
   ]
  },
  {
   "cell_type": "markdown",
   "metadata": {},
   "source": [
    "3) Écrire une fonction f(x) qui retourne l'expression de $f(x)$."
   ]
  },
  {
   "cell_type": "code",
   "execution_count": 42,
   "metadata": {},
   "outputs": [],
   "source": [
    "def f(x):\n",
    "    return(...)"
   ]
  },
  {
   "cell_type": "markdown",
   "metadata": {},
   "source": [
    "$\\textbf{Principe de la méthode}$\n",
    "\n",
    "Soit $f$ une fonction $\\textbf{continue}$ sur un intervalle $[a;b]$, avec $f(a)$ et $f(b)$ de $\\textbf{signes opposés}$.\n",
    "\n",
    "En vertu du théorème des valeurs intermédiaires, il existe un réel $\\alpha$ dans $[a;b]$ pour lequel $f(\\alpha)=0$.\n",
    "\n",
    "\n",
    "On peut trouver un encadrement de $\\alpha$ aussi précis qu'on veut en utilisant le principe de dichotomie : \n",
    "\n",
    "On calcule le centre de l'intervalle $m=\\dfrac{a+b}{2}$,\n",
    "\n",
    "   - Si $f(a)$ et $f(m)$ sont de signes opposés, le nombre $\\alpha$ se trouve dans le premier demi-intervalle $[a;m]$.\n",
    "   \n",
    "   - Si $f(a)$ et $f(m)$ sont de même signe, le nombre $\\alpha$ se trouve dans le second demi-intervalle $[m;b]$.\n",
    "   \n",
    "\n",
    "Et on recommence ce raisonnement avec le demi-intervalle ciblé.\n",
    "\n",
    "$\\textbf{Remarque}$ Dans ce procédé, on construit une succession d'intervalles dont la longueur est divisée par deux à chaque étape.\n",
    "\n"
   ]
  },
  {
   "cell_type": "markdown",
   "metadata": {},
   "source": [
    "4) Compléter la fonction dichotomie(a,b,f,epsilon) qui retourne un encadrement de $\\alpha$ avec une précision de $\\epsilon$ donné."
   ]
  },
  {
   "cell_type": "markdown",
   "metadata": {},
   "source": [
    "$\\textit{Une précision de $\\epsilon$ donné signifie qu'on veut que l'aglorithme s'arrête dès que l'intervalle de recherche de $\\alpha$ a une longueur inférieure à $\\epsilon$.}$"
   ]
  },
  {
   "cell_type": "code",
   "execution_count": 44,
   "metadata": {},
   "outputs": [
    {
     "ename": "SyntaxError",
     "evalue": "invalid syntax (<ipython-input-44-09ade2ba896b>, line 4)",
     "output_type": "error",
     "traceback": [
      "\u001b[0;36m  File \u001b[0;32m\"<ipython-input-44-09ade2ba896b>\"\u001b[0;36m, line \u001b[0;32m4\u001b[0m\n\u001b[0;31m    if f(a)*f(b) ... 0:\u001b[0m\n\u001b[0m                 ^\u001b[0m\n\u001b[0;31mSyntaxError\u001b[0m\u001b[0;31m:\u001b[0m invalid syntax\n"
     ]
    }
   ],
   "source": [
    "def dichotomie(a,b,f,epsilon):\n",
    "    while b-a> ... :\n",
    "        m= ...\n",
    "        if f(a)*f(b) ... 0:\n",
    "            b=m\n",
    "        else:\n",
    "            a= ...\n",
    "    return(a,b)"
   ]
  },
  {
   "cell_type": "markdown",
   "metadata": {},
   "source": [
    "5) Donner un encadrement de $\\alpha$ à $10^{-4}$ près."
   ]
  },
  {
   "cell_type": "code",
   "execution_count": 41,
   "metadata": {},
   "outputs": [
    {
     "data": {
      "text/plain": [
       "Ellipsis"
      ]
     },
     "execution_count": 41,
     "metadata": {},
     "output_type": "execute_result"
    }
   ],
   "source": [
    "..."
   ]
  },
  {
   "cell_type": "markdown",
   "metadata": {},
   "source": [
    "${\\bf Partie~C}\\kern10pt$ Une autre équation"
   ]
  },
  {
   "cell_type": "markdown",
   "metadata": {},
   "source": [
    "Déterminer la solution à $10^{-5}$ près de l'équation $f(x)=-2$ sur $[0;2]$."
   ]
  },
  {
   "cell_type": "code",
   "execution_count": 40,
   "metadata": {},
   "outputs": [
    {
     "data": {
      "text/plain": [
       "Ellipsis"
      ]
     },
     "execution_count": 40,
     "metadata": {},
     "output_type": "execute_result"
    }
   ],
   "source": [
    "..."
   ]
  },
  {
   "cell_type": "code",
   "execution_count": null,
   "metadata": {},
   "outputs": [],
   "source": []
  }
 ],
 "metadata": {
  "kernelspec": {
   "display_name": "Python 3",
   "language": "python",
   "name": "python3"
  },
  "language_info": {
   "codemirror_mode": {
    "name": "ipython",
    "version": 3
   },
   "file_extension": ".py",
   "mimetype": "text/x-python",
   "name": "python",
   "nbconvert_exporter": "python",
   "pygments_lexer": "ipython3",
   "version": "3.8.3"
  }
 },
 "nbformat": 4,
 "nbformat_minor": 4
}
