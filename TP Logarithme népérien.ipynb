{
 "cells": [
  {
   "cell_type": "code",
   "execution_count": 1,
   "metadata": {},
   "outputs": [],
   "source": [
    "import matplotlib.pyplot as plt\n",
    "import numpy as np\n",
    "from math import *\n"
   ]
  },
  {
   "cell_type": "markdown",
   "metadata": {},
   "source": [
    "$\\large  TP : Logarithme~népérien$\n"
   ]
  },
  {
   "cell_type": "markdown",
   "metadata": {},
   "source": [
    "$\\textbf{Un algorithme pour approximer le logarithme népérien}$\n",
    "\n"
   ]
  },
  {
   "cell_type": "markdown",
   "metadata": {},
   "source": [
    "\n",
    "Soit $a>0$. On considère la suite $(u_n)$ définie par $u_0=a$ et, pour tout entier naturel $n$, $u_{n+1}=\\sqrt{u_n}$.\n"
   ]
  },
  {
   "cell_type": "markdown",
   "metadata": {},
   "source": [
    "${\\bf Question~1}\\kern10pt$\n",
    "\n",
    "Ecrire une fonction suiteun(n,a) qui renvoie le $n$-ième terme de la suite $(u_n)$.\n"
   ]
  },
  {
   "cell_type": "code",
   "execution_count": 21,
   "metadata": {},
   "outputs": [],
   "source": [
    "def suiteun(n,a):\n",
    "    u=a\n",
    "    for i in range(n):\n",
    "        u=sqrt(u)\n",
    "    return(u)"
   ]
  },
  {
   "cell_type": "markdown",
   "metadata": {},
   "source": [
    "${\\bf Question~2}\\kern10pt$\n",
    "\n",
    "Renvoyer les trois premiers termes de la suite $(u_n)$ lorsque $a=16$."
   ]
  },
  {
   "cell_type": "code",
   "execution_count": null,
   "metadata": {},
   "outputs": [],
   "source": []
  },
  {
   "cell_type": "code",
   "execution_count": null,
   "metadata": {},
   "outputs": [],
   "source": []
  },
  {
   "cell_type": "code",
   "execution_count": null,
   "metadata": {},
   "outputs": [],
   "source": []
  },
  {
   "cell_type": "markdown",
   "metadata": {},
   "source": [
    "${\\bf Question~3}\\kern10pt$\n",
    "\n",
    "Ecrire une fonction premierstermesun(a) qui renvoie les $50$ premiers termes de la suite $(u_n)$ $\\textbf{dans une liste}$."
   ]
  },
  {
   "cell_type": "code",
   "execution_count": 53,
   "metadata": {},
   "outputs": [],
   "source": [
    "def premierstermesun(a):\n",
    "    L=[]\n",
    "    for i in range(50):\n",
    "        L.append(suiteun(i,a))\n",
    "    return(L)"
   ]
  },
  {
   "cell_type": "markdown",
   "metadata": {},
   "source": [
    "${\\bf Question~4}\\kern10pt$\n",
    "\n",
    "Calculez les $50$ premiers termes de la suite $(u_n)$ lorsque $a=3$, $a=\\pi$ et $a=1001$. \n",
    "\n",
    "Quelle conjecture pouvez-vous faire sur la suite $(u_n)$ ?"
   ]
  },
  {
   "cell_type": "code",
   "execution_count": null,
   "metadata": {},
   "outputs": [],
   "source": []
  },
  {
   "cell_type": "code",
   "execution_count": null,
   "metadata": {},
   "outputs": [],
   "source": []
  },
  {
   "cell_type": "code",
   "execution_count": null,
   "metadata": {},
   "outputs": [],
   "source": []
  },
  {
   "cell_type": "markdown",
   "metadata": {},
   "source": [
    "Ma conjecture : "
   ]
  },
  {
   "cell_type": "markdown",
   "metadata": {},
   "source": [
    "${\\bf Question~5}\\kern10pt$\n",
    "\n",
    "Pour tout entier naturel $n$, on pose $w_n=\\ln(u_n)$.\n",
    "\n",
    "Montrer que la suite $(w_n)$ est géométrique et exprimer $w_n$ en fonction de $n$ pour tout entier naturel $n$."
   ]
  },
  {
   "cell_type": "markdown",
   "metadata": {},
   "source": [
    "$\\textit{Réponse sur feuille}$."
   ]
  },
  {
   "cell_type": "markdown",
   "metadata": {},
   "source": [
    "${\\bf Question~6}\\kern10pt$\n",
    "\n",
    "Exprimer $u_n$ en fonction de $n$ pour tout entier naturel $n$."
   ]
  },
  {
   "cell_type": "markdown",
   "metadata": {},
   "source": [
    "$\\textit{Réponse sur feuille}$."
   ]
  },
  {
   "cell_type": "markdown",
   "metadata": {},
   "source": [
    "${\\bf Question~7}\\kern10pt$\n",
    "\n",
    "Démontrer la conjecture établie à la $\\textbf{question 4}$."
   ]
  },
  {
   "cell_type": "markdown",
   "metadata": {},
   "source": [
    "$\\textit{Réponse sur feuille}$."
   ]
  },
  {
   "cell_type": "markdown",
   "metadata": {},
   "source": [
    "\n",
    "\n",
    "On considère la suite $(v_n)$ définie sur $\\mathbb{N}$ par $v_n=2^n(u_n-1)$."
   ]
  },
  {
   "cell_type": "markdown",
   "metadata": {},
   "source": [
    "${\\bf Question~8}\\kern10pt$\n",
    "\n",
    "Ecrire une fonction suitevn(n,a) qui renvoie le $n$-ième terme de la suite $(v_n)$."
   ]
  },
  {
   "cell_type": "code",
   "execution_count": 37,
   "metadata": {},
   "outputs": [],
   "source": [
    "def suitevn(n,a):\n",
    "    return((2**n)*(suiteun(n,a)-1))"
   ]
  },
  {
   "cell_type": "markdown",
   "metadata": {},
   "source": [
    "${\\bf Question~9}\\kern10pt$\n",
    "\n",
    "Ecrire une fonction premierstermesvn(a) qui renvoie les $25$ premiers termes de la suite $(u_n)$ $\\textbf{dans une liste}$."
   ]
  },
  {
   "cell_type": "code",
   "execution_count": 52,
   "metadata": {},
   "outputs": [],
   "source": [
    "def premierstermesvn(a):\n",
    "    L=[]\n",
    "    for i in range(25):\n",
    "        L.append(suitevn(i,a))\n",
    "    return(L)"
   ]
  },
  {
   "cell_type": "markdown",
   "metadata": {},
   "source": [
    "${\\bf Question~10}\\kern10pt$\n",
    "\n",
    "Calculez les $25$ premiers termes de la suite $(v_n)$ lorsque $a=e$, $a=e^2$ et $a=e^{39}$. \n",
    "\n",
    "Quelle conjecture pouvez-vous faire sur la suite $(v_n)$ ?"
   ]
  },
  {
   "cell_type": "code",
   "execution_count": null,
   "metadata": {},
   "outputs": [],
   "source": []
  },
  {
   "cell_type": "code",
   "execution_count": null,
   "metadata": {},
   "outputs": [],
   "source": []
  },
  {
   "cell_type": "code",
   "execution_count": null,
   "metadata": {},
   "outputs": [],
   "source": []
  },
  {
   "cell_type": "markdown",
   "metadata": {},
   "source": [
    "Ma conjecture est : "
   ]
  },
  {
   "cell_type": "markdown",
   "metadata": {},
   "source": [
    "${\\bf Question~11}\\kern10pt$\n",
    "\n",
    "Rappeler la valeur de $\\displaystyle\\lim_{x\\to 1} \\dfrac{\\ln(x)}{x-1}$."
   ]
  },
  {
   "cell_type": "markdown",
   "metadata": {},
   "source": [
    "$\\textit{Réponse sur feuille}$."
   ]
  },
  {
   "cell_type": "markdown",
   "metadata": {},
   "source": [
    "${\\bf Question~12}\\kern10pt$\n",
    "\n",
    "Démontrer la conjecture établie à la $\\textbf{question 11}$.\n",
    "\n",
    "$\\textbf{Indication}$ Faire apparaître $\\ln(u_n)$ dans l'expression de $v_n$."
   ]
  },
  {
   "cell_type": "markdown",
   "metadata": {},
   "source": [
    "$\\textit{Réponse sur feuille}$."
   ]
  }
 ],
 "metadata": {
  "kernelspec": {
   "display_name": "Python 3",
   "language": "python",
   "name": "python3"
  },
  "language_info": {
   "codemirror_mode": {
    "name": "ipython",
    "version": 3
   },
   "file_extension": ".py",
   "mimetype": "text/x-python",
   "name": "python",
   "nbconvert_exporter": "python",
   "pygments_lexer": "ipython3",
   "version": "3.8.3"
  }
 },
 "nbformat": 4,
 "nbformat_minor": 4
}
