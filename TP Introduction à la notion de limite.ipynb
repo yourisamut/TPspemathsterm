{
 "cells": [
  {
   "cell_type": "code",
   "execution_count": 14,
   "metadata": {},
   "outputs": [],
   "source": [
    "import matplotlib.pyplot as plt\n",
    "import numpy as np"
   ]
  },
  {
   "cell_type": "markdown",
   "metadata": {},
   "source": [
    "\n",
    "$\\textbf{TP : Introduction à la notion de limite}$\n"
   ]
  },
  {
   "cell_type": "markdown",
   "metadata": {},
   "source": [
    "${\\bf Exercice~1 - Algorithme \\; de \\; Héron}\\kern10pt$"
   ]
  },
  {
   "cell_type": "markdown",
   "metadata": {},
   "source": [
    "On cherche à approximer la valeur $\\sqrt{2}$ à l'aide d'un algorithme simple."
   ]
  },
  {
   "cell_type": "markdown",
   "metadata": {},
   "source": [
    "On considère la suite de Héron $(u_n)$ définie par : $ \n",
    "\\left\\{\n",
    "    \\begin{array}{ll}\n",
    "        u_0=2 \\\\\n",
    "        u_{n+1}=\\dfrac{1}{2}\\left(u_n+\\dfrac{2}{u_n}\\right) \\\\\n",
    "    \\end{array}\n",
    " \\right.$"
   ]
  },
  {
   "cell_type": "markdown",
   "metadata": {},
   "source": [
    "1) Dans la cellule ci-dessous, calculer $u_1$ et $u_2$"
   ]
  },
  {
   "cell_type": "code",
   "execution_count": 10,
   "metadata": {},
   "outputs": [
    {
     "ename": "SyntaxError",
     "evalue": "invalid syntax (<ipython-input-10-db08ba453d50>, line 1)",
     "output_type": "error",
     "traceback": [
      "\u001b[0;36m  File \u001b[0;32m\"<ipython-input-10-db08ba453d50>\"\u001b[0;36m, line \u001b[0;32m1\u001b[0m\n\u001b[0;31m    u1 =\u001b[0m\n\u001b[0m         ^\u001b[0m\n\u001b[0;31mSyntaxError\u001b[0m\u001b[0;31m:\u001b[0m invalid syntax\n"
     ]
    }
   ],
   "source": [
    "u1 = \n",
    "u2 = \n",
    "\n",
    "print(u1,u2)"
   ]
  },
  {
   "cell_type": "markdown",
   "metadata": {},
   "source": [
    "2) Compléter la fonction suivante pour qu'elle renvoie le terme $u_n$ de la suite."
   ]
  },
  {
   "cell_type": "code",
   "execution_count": 37,
   "metadata": {},
   "outputs": [],
   "source": [
    "def heron(n):\n",
    "    u=...\n",
    "    for k in range(...):\n",
    "        u=...\n",
    "    return(...)"
   ]
  },
  {
   "cell_type": "markdown",
   "metadata": {},
   "source": [
    "3) Retrouver les valeurs de la question 1) à l'aide du précédent programme."
   ]
  },
  {
   "cell_type": "code",
   "execution_count": null,
   "metadata": {},
   "outputs": [],
   "source": []
  },
  {
   "cell_type": "markdown",
   "metadata": {},
   "source": [
    "4) A l'aide de la fonction np.sqrt préprogrammée sur Python, on peut avoir une valeur quasiment exacte de $\\sqrt{2}$.\n",
    "\n",
    "Exécuter la cellule suivante."
   ]
  },
  {
   "cell_type": "code",
   "execution_count": 24,
   "metadata": {},
   "outputs": [
    {
     "name": "stdout",
     "output_type": "stream",
     "text": [
      "1.4142135623730951\n"
     ]
    }
   ],
   "source": [
    "print(np.sqrt(2))"
   ]
  },
  {
   "cell_type": "markdown",
   "metadata": {},
   "source": [
    "5) On veut modifier notre fonction heron(n) afin qu'elle nous renvoie la liste des n premiers termes de la suite $(u_n)$.\n",
    "\n",
    "$\\quad$ Compléter le programme suivant."
   ]
  },
  {
   "cell_type": "code",
   "execution_count": 25,
   "metadata": {},
   "outputs": [],
   "source": [
    "def heronliste(n):\n",
    "    u=...\n",
    "    liste=[]\n",
    "    for k in range(...):\n",
    "        liste.append(...)\n",
    "        u=...\n",
    "    return(...)"
   ]
  },
  {
   "cell_type": "markdown",
   "metadata": {},
   "source": [
    "6) Afficher les 10 premiers termes de la suite de Héron. \n",
    "\n",
    "$\\quad$ Que remarquez-vous ?"
   ]
  },
  {
   "cell_type": "code",
   "execution_count": null,
   "metadata": {},
   "outputs": [],
   "source": []
  },
  {
   "cell_type": "markdown",
   "metadata": {},
   "source": [
    "Je remarque que ..."
   ]
  },
  {
   "cell_type": "markdown",
   "metadata": {},
   "source": [
    "7) On cherche à estimer l'erreur, c'est-à-dire mesurer l'écart en valeur absolue entre les termes $u_n$ et la valeur exacte $\\sqrt{2}$.\n",
    "\n",
    "$\\quad$ Exécutez les deux cellules suivantes qui estiment les erreurs associées aux termes $u_1$, $u_2$ et $u_3$. Qu'observez-vous ?"
   ]
  },
  {
   "cell_type": "code",
   "execution_count": 40,
   "metadata": {},
   "outputs": [
    {
     "data": {
      "text/plain": [
       "0.08578643762690485"
      ]
     },
     "execution_count": 40,
     "metadata": {},
     "output_type": "execute_result"
    }
   ],
   "source": [
    "abs(heron(1)-np.sqrt(2))"
   ]
  },
  {
   "cell_type": "code",
   "execution_count": 41,
   "metadata": {},
   "outputs": [
    {
     "data": {
      "text/plain": [
       "0.002453104293571373"
      ]
     },
     "execution_count": 41,
     "metadata": {},
     "output_type": "execute_result"
    }
   ],
   "source": [
    "abs(heron(2)-np.sqrt(2))"
   ]
  },
  {
   "cell_type": "code",
   "execution_count": 42,
   "metadata": {},
   "outputs": [
    {
     "data": {
      "text/plain": [
       "2.123901414519125e-06"
      ]
     },
     "execution_count": 42,
     "metadata": {},
     "output_type": "execute_result"
    }
   ],
   "source": [
    "abs(heron(3)-np.sqrt(2))"
   ]
  },
  {
   "cell_type": "markdown",
   "metadata": {},
   "source": [
    "J'observe que ..."
   ]
  },
  {
   "cell_type": "markdown",
   "metadata": {},
   "source": [
    "8) Compléter le programme suivant afin qu'il renvoie les $n$ premières erreurs de la suite de Héron."
   ]
  },
  {
   "cell_type": "code",
   "execution_count": 46,
   "metadata": {},
   "outputs": [],
   "source": [
    "def heronerreur(n):\n",
    "    liste=[]\n",
    "    for k in range(...):\n",
    "        liste.append(...)\n",
    "    return(...)"
   ]
  },
  {
   "cell_type": "markdown",
   "metadata": {},
   "source": [
    "9) Renvoyer les 20 premières erreurs et conclure."
   ]
  },
  {
   "cell_type": "code",
   "execution_count": null,
   "metadata": {},
   "outputs": [],
   "source": []
  },
  {
   "cell_type": "markdown",
   "metadata": {},
   "source": [
    "Conclusion : "
   ]
  },
  {
   "cell_type": "markdown",
   "metadata": {},
   "source": [
    "${\\bf Exercice~2 - Vers \\; l'infini \\; et \\; au-delà}\\kern10pt$"
   ]
  },
  {
   "cell_type": "markdown",
   "metadata": {},
   "source": [
    "On s'intéresse à la suite $(v_n)$ définie sur $\\mathbb{N}$ par : $ \n",
    "\\left\\{\n",
    "    \\begin{array}{ll}\n",
    "        v_0=7 \\\\\n",
    "        v_{n+1}=5v_n + 2 \\\\\n",
    "    \\end{array}\n",
    " \\right.$"
   ]
  },
  {
   "cell_type": "markdown",
   "metadata": {},
   "source": [
    "1) Ecrire une fonction vnliste(n) qui renvoie les n premiers termes de la suite $(u_n)$.\n",
    "\n",
    "$\\quad$ $\\textit{On pourra s'inspirer de la question 5 de l'exercice précédent}$"
   ]
  },
  {
   "cell_type": "code",
   "execution_count": 95,
   "metadata": {},
   "outputs": [],
   "source": [
    "def vnliste(n):\n",
    "    v=...\n",
    "    liste=[]\n",
    "    for k in range (...):\n",
    "        liste.append(...)\n",
    "        v=...\n",
    "    return(...)"
   ]
  },
  {
   "cell_type": "markdown",
   "metadata": {},
   "source": [
    "2) A l'aide de la fonction vnliste(n), renvoyer les 100 premiers termes de la suite $(v_n)$.\n",
    "\n",
    "$\\quad$ Qu'observez-vous ?"
   ]
  },
  {
   "cell_type": "code",
   "execution_count": null,
   "metadata": {},
   "outputs": [],
   "source": []
  },
  {
   "cell_type": "markdown",
   "metadata": {},
   "source": [
    "J'observe que ..."
   ]
  },
  {
   "cell_type": "markdown",
   "metadata": {},
   "source": [
    "3) Montrer par récurrence que, $v_n > 0$ pour tout entier $n$."
   ]
  },
  {
   "cell_type": "markdown",
   "metadata": {},
   "source": [
    "Sur feuille"
   ]
  },
  {
   "cell_type": "markdown",
   "metadata": {},
   "source": [
    "4) En déduire que la suite $(v_n)$ est croissante."
   ]
  },
  {
   "cell_type": "markdown",
   "metadata": {},
   "source": [
    "Sur feuille"
   ]
  },
  {
   "cell_type": "markdown",
   "metadata": {},
   "source": [
    "5) Compléter la fonction seuilvn(A) ci-dessous pour qu'elle renvoie le plus petit entier $n$ à partir duquel $u_n>A$."
   ]
  },
  {
   "cell_type": "code",
   "execution_count": 94,
   "metadata": {},
   "outputs": [
    {
     "ename": "SyntaxError",
     "evalue": "invalid syntax (<ipython-input-94-ed4321acf89f>, line 4)",
     "output_type": "error",
     "traceback": [
      "\u001b[0;36m  File \u001b[0;32m\"<ipython-input-94-ed4321acf89f>\"\u001b[0;36m, line \u001b[0;32m4\u001b[0m\n\u001b[0;31m    while v ... A:\u001b[0m\n\u001b[0m            ^\u001b[0m\n\u001b[0;31mSyntaxError\u001b[0m\u001b[0;31m:\u001b[0m invalid syntax\n"
     ]
    }
   ],
   "source": [
    "def seuilvn(A):\n",
    "    v=...\n",
    "    compteur=0\n",
    "    while v ... A:\n",
    "        compteur=compteur+1\n",
    "        v=...\n",
    "    return(...)"
   ]
  },
  {
   "cell_type": "code",
   "execution_count": null,
   "metadata": {},
   "outputs": [],
   "source": []
  },
  {
   "cell_type": "markdown",
   "metadata": {},
   "source": [
    "6) Trouver le plus entier $n$ à partir du quel $u_n> 1\\underbrace{00...0}_{100 \\; {zéros}}$"
   ]
  },
  {
   "cell_type": "code",
   "execution_count": null,
   "metadata": {},
   "outputs": [],
   "source": []
  }
 ],
 "metadata": {
  "kernelspec": {
   "display_name": "Python 3",
   "language": "python",
   "name": "python3"
  },
  "language_info": {
   "codemirror_mode": {
    "name": "ipython",
    "version": 3
   },
   "file_extension": ".py",
   "mimetype": "text/x-python",
   "name": "python",
   "nbconvert_exporter": "python",
   "pygments_lexer": "ipython3",
   "version": "3.8.3"
  }
 },
 "nbformat": 4,
 "nbformat_minor": 4
}
