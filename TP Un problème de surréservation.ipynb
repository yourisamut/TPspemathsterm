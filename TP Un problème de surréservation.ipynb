{
 "cells": [
  {
   "cell_type": "code",
   "execution_count": 121,
   "metadata": {},
   "outputs": [],
   "source": [
    "import matplotlib.pyplot as plt\n",
    "import numpy as np\n"
   ]
  },
  {
   "cell_type": "markdown",
   "metadata": {},
   "source": [
    "\n",
    "$\\textbf{Probabilités et loi binomiale : Un problème de surréservation}$\n"
   ]
  },
  {
   "cell_type": "markdown",
   "metadata": {},
   "source": [
    "${\\bf Exercice~1 - Factorielle }\\kern10pt$"
   ]
  },
  {
   "cell_type": "markdown",
   "metadata": {},
   "source": [
    "Écrire une fonction fact(n) qui renvoie $n!$ pour $n$ entier naturel."
   ]
  },
  {
   "cell_type": "code",
   "execution_count": null,
   "metadata": {},
   "outputs": [],
   "source": [
    "    "
   ]
  },
  {
   "cell_type": "markdown",
   "metadata": {},
   "source": [
    "${\\bf Exercice~2 - Coefficient~binomial }\\kern10pt$"
   ]
  },
  {
   "cell_type": "markdown",
   "metadata": {},
   "source": [
    "Écrire une fonction coefbinom(n,k) qui prend en paramètres deux entiers naturels $n$ et $k$ et qui renvoie le\n",
    "coefficient binomial $\\displaystyle\\binom{n}{k}$ . "
   ]
  },
  {
   "cell_type": "code",
   "execution_count": null,
   "metadata": {},
   "outputs": [],
   "source": []
  },
  {
   "cell_type": "markdown",
   "metadata": {},
   "source": [
    "${\\bf Exercice~3 - Loi~binomial }\\kern10pt$"
   ]
  },
  {
   "cell_type": "markdown",
   "metadata": {},
   "source": [
    "Écrire une fonction loibinomial(n,k,p) qui prend en paramètres trois nombres (deux entiers naturels $n$ et $k$ et un nombre décimal $p$ compris entre $0$ et $1$) et qui renvoie $P(X=k)$, où $X$ suit une loi binomiale de\n",
    "paramètres $n$ et $p$.\n",
    "\n",
    "On fera attention à ce que le cas $k>n$ renvoie bien une probabilité nulle."
   ]
  },
  {
   "cell_type": "code",
   "execution_count": null,
   "metadata": {},
   "outputs": [],
   "source": []
  },
  {
   "cell_type": "markdown",
   "metadata": {},
   "source": [
    "${\\bf Exercice~4 }\\kern10pt$"
   ]
  },
  {
   "cell_type": "markdown",
   "metadata": {},
   "source": [
    "Écrire une fonction binomFrep(n,k,p) qui prend en arguments trois nombres (deux entiers naturels $n$ et $k$ et un nombre décimal $p$ compris entre $0$ et $1$) et qui renvoie $P(X \\leq k)$ où $X$ suit une loi binomiale de paramètres $n$ et $p$."
   ]
  },
  {
   "cell_type": "code",
   "execution_count": 119,
   "metadata": {},
   "outputs": [
    {
     "ename": "SyntaxError",
     "evalue": "unexpected EOF while parsing (<ipython-input-119-9df9631f8546>, line 1)",
     "output_type": "error",
     "traceback": [
      "\u001b[0;36m  File \u001b[0;32m\"<ipython-input-119-9df9631f8546>\"\u001b[0;36m, line \u001b[0;32m1\u001b[0m\n\u001b[0;31m    def binomFrep(n,k,p):\u001b[0m\n\u001b[0m                         ^\u001b[0m\n\u001b[0;31mSyntaxError\u001b[0m\u001b[0;31m:\u001b[0m unexpected EOF while parsing\n"
     ]
    }
   ],
   "source": [
    "def binomFrep(n,k,p):\n"
   ]
  },
  {
   "cell_type": "markdown",
   "metadata": {},
   "source": [
    "${\\bf Problème - Vol~d'avion~et~surbooking }\\kern10pt$"
   ]
  },
  {
   "cell_type": "markdown",
   "metadata": {},
   "source": [
    "Un avion en provenance de Barcelone et à destination de Lille\n",
    "possède 300 places à bord. \n",
    "Les années précédentes, la compagnie a observé un taux de non présentation à l’embarquement de 4 $\\%$ sur ce vol pour les personnes ayant effectué une réservation. \n",
    "\n",
    "Toutes les personnes ayant procédé à une réservation ont la même probabilité de ne pas se présenter\n",
    "à l’enregistrement et on suppose que leurs comportements sont indépendants les uns des autres. \n",
    "\n",
    "Le risque accepté par la compagnie pour que certains voyageurs soient en situation de surbooking est de 1$\\%$. \n",
    "\n",
    "Soit $n$ le nombre de places vendues par la compagnie aérienne sur ce vol.\n",
    "\n",
    "Combien doit valoir $n$ pour respecter le risque accepté par la compagnie mais aussi remplir au maximum l’avion ?"
   ]
  },
  {
   "cell_type": "markdown",
   "metadata": {},
   "source": [
    "${\\bf Question~1 }\\kern10pt$"
   ]
  },
  {
   "cell_type": "markdown",
   "metadata": {},
   "source": [
    "Soit $X$ la variable aléatoire qui compte le nombre de passagers présents à l'embarquement.\n",
    "\n",
    "Montrer que $X$ suit une loi binomiale et préciser ses paramètres."
   ]
  },
  {
   "cell_type": "markdown",
   "metadata": {},
   "source": [
    "$\\textit{Réponse sur feuille}$"
   ]
  },
  {
   "cell_type": "markdown",
   "metadata": {},
   "source": [
    "${\\bf Question~2 }\\kern10pt$"
   ]
  },
  {
   "cell_type": "markdown",
   "metadata": {},
   "source": [
    "Exprimer en fonction de $n$, la probabilité que l'avion soit rempli."
   ]
  },
  {
   "cell_type": "markdown",
   "metadata": {},
   "source": [
    "$\\textit{Réponse sur feuille}$"
   ]
  },
  {
   "cell_type": "markdown",
   "metadata": {},
   "source": [
    "${\\bf Question~3 }\\kern10pt$"
   ]
  },
  {
   "cell_type": "markdown",
   "metadata": {},
   "source": [
    "Exprimer la probabilité que l'on soit en situation de surbooking."
   ]
  },
  {
   "cell_type": "markdown",
   "metadata": {},
   "source": [
    "$\\textit{Réponse sur feuille}$"
   ]
  },
  {
   "cell_type": "markdown",
   "metadata": {},
   "source": [
    "${\\bf Question~4 }\\kern10pt$"
   ]
  },
  {
   "cell_type": "markdown",
   "metadata": {},
   "source": [
    "En déduire que répondre au problème revient à résoudre l'inéquation $P(X>300)\\leq 0,01$."
   ]
  },
  {
   "cell_type": "markdown",
   "metadata": {},
   "source": [
    "$\\textit{Réponse sur feuille}$"
   ]
  },
  {
   "cell_type": "markdown",
   "metadata": {},
   "source": [
    "${\\bf Question~5 }\\kern10pt$"
   ]
  },
  {
   "cell_type": "markdown",
   "metadata": {},
   "source": [
    "Compléter l'algorithme suivant pour qu'il renvoie le plus grand entier naturel $n$ tel que $P(X>300)\\leq 0,01$.\n",
    "\n",
    "Montrer que $n=305$."
   ]
  },
  {
   "cell_type": "code",
   "execution_count": 117,
   "metadata": {},
   "outputs": [
    {
     "ename": "TypeError",
     "evalue": "unsupported operand type(s) for +: 'ellipsis' and 'int'",
     "output_type": "error",
     "traceback": [
      "\u001b[0;31m---------------------------------------------------------------------------\u001b[0m",
      "\u001b[0;31mTypeError\u001b[0m                                 Traceback (most recent call last)",
      "\u001b[0;32m<ipython-input-117-0a18fcc03d6e>\u001b[0m in \u001b[0;36m<module>\u001b[0;34m\u001b[0m\n\u001b[1;32m      1\u001b[0m \u001b[0mi\u001b[0m\u001b[0;34m=\u001b[0m\u001b[0;36m300\u001b[0m\u001b[0;34m\u001b[0m\u001b[0;34m\u001b[0m\u001b[0m\n\u001b[0;32m----> 2\u001b[0;31m \u001b[0mproba\u001b[0m\u001b[0;34m=\u001b[0m\u001b[0mbinomFrep\u001b[0m\u001b[0;34m(\u001b[0m\u001b[0;34m...\u001b[0m \u001b[0;34m,\u001b[0m \u001b[0;34m...\u001b[0m \u001b[0;34m,\u001b[0m \u001b[0;34m...\u001b[0m\u001b[0;34m)\u001b[0m\u001b[0;34m\u001b[0m\u001b[0;34m\u001b[0m\u001b[0m\n\u001b[0m\u001b[1;32m      3\u001b[0m \u001b[0;32mwhile\u001b[0m \u001b[0;36m1\u001b[0m\u001b[0;34m-\u001b[0m\u001b[0mproba\u001b[0m\u001b[0;34m<\u001b[0m \u001b[0;34m...\u001b[0m \u001b[0;34m:\u001b[0m\u001b[0;34m\u001b[0m\u001b[0;34m\u001b[0m\u001b[0m\n\u001b[1;32m      4\u001b[0m     \u001b[0mi\u001b[0m\u001b[0;34m=\u001b[0m \u001b[0;34m...\u001b[0m\u001b[0;34m\u001b[0m\u001b[0;34m\u001b[0m\u001b[0m\n\u001b[1;32m      5\u001b[0m     \u001b[0mproba\u001b[0m\u001b[0;34m=\u001b[0m\u001b[0mbinomFrep\u001b[0m\u001b[0;34m(\u001b[0m\u001b[0;34m...\u001b[0m \u001b[0;34m,\u001b[0m\u001b[0;34m...\u001b[0m \u001b[0;34m,\u001b[0m \u001b[0;34m...\u001b[0m\u001b[0;34m)\u001b[0m\u001b[0;34m\u001b[0m\u001b[0;34m\u001b[0m\u001b[0m\n",
      "\u001b[0;32m<ipython-input-88-845f0ac2a665>\u001b[0m in \u001b[0;36mbinomFrep\u001b[0;34m(n, k, p)\u001b[0m\n\u001b[1;32m      1\u001b[0m \u001b[0;32mdef\u001b[0m \u001b[0mbinomFrep\u001b[0m\u001b[0;34m(\u001b[0m\u001b[0mn\u001b[0m\u001b[0;34m,\u001b[0m\u001b[0mk\u001b[0m\u001b[0;34m,\u001b[0m\u001b[0mp\u001b[0m\u001b[0;34m)\u001b[0m\u001b[0;34m:\u001b[0m\u001b[0;34m\u001b[0m\u001b[0;34m\u001b[0m\u001b[0m\n\u001b[1;32m      2\u001b[0m     \u001b[0mS\u001b[0m\u001b[0;34m=\u001b[0m\u001b[0;36m0\u001b[0m\u001b[0;34m\u001b[0m\u001b[0;34m\u001b[0m\u001b[0m\n\u001b[0;32m----> 3\u001b[0;31m     \u001b[0;32mfor\u001b[0m \u001b[0mi\u001b[0m \u001b[0;32min\u001b[0m \u001b[0mrange\u001b[0m\u001b[0;34m(\u001b[0m\u001b[0mk\u001b[0m\u001b[0;34m+\u001b[0m\u001b[0;36m1\u001b[0m\u001b[0;34m)\u001b[0m\u001b[0;34m:\u001b[0m\u001b[0;34m\u001b[0m\u001b[0;34m\u001b[0m\u001b[0m\n\u001b[0m\u001b[1;32m      4\u001b[0m         \u001b[0mS\u001b[0m\u001b[0;34m+=\u001b[0m\u001b[0mloibinomial\u001b[0m\u001b[0;34m(\u001b[0m\u001b[0mn\u001b[0m\u001b[0;34m,\u001b[0m\u001b[0mi\u001b[0m\u001b[0;34m,\u001b[0m\u001b[0mp\u001b[0m\u001b[0;34m)\u001b[0m\u001b[0;34m\u001b[0m\u001b[0;34m\u001b[0m\u001b[0m\n\u001b[1;32m      5\u001b[0m     \u001b[0;32mreturn\u001b[0m\u001b[0;34m(\u001b[0m\u001b[0mS\u001b[0m\u001b[0;34m)\u001b[0m\u001b[0;34m\u001b[0m\u001b[0;34m\u001b[0m\u001b[0m\n",
      "\u001b[0;31mTypeError\u001b[0m: unsupported operand type(s) for +: 'ellipsis' and 'int'"
     ]
    }
   ],
   "source": [
    "i=300\n",
    "proba=binomFrep(... , ... , ...)\n",
    "while 1-proba< ... :\n",
    "    i= ...\n",
    "    proba=binomFrep(... ,... , ...)\n",
    "\n",
    "print(...)\n",
    "\n",
    "    "
   ]
  }
 ],
 "metadata": {
  "kernelspec": {
   "display_name": "Python 3",
   "language": "python",
   "name": "python3"
  },
  "language_info": {
   "codemirror_mode": {
    "name": "ipython",
    "version": 3
   },
   "file_extension": ".py",
   "mimetype": "text/x-python",
   "name": "python",
   "nbconvert_exporter": "python",
   "pygments_lexer": "ipython3",
   "version": "3.8.3"
  }
 },
 "nbformat": 4,
 "nbformat_minor": 4
}
